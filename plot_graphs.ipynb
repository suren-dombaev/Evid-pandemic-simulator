{
 "cells": [
  {
   "cell_type": "code",
   "execution_count": 1,
   "metadata": {},
   "outputs": [],
   "source": [
    "import pickle \n",
    "import matplotlib.pyplot as plt\n",
    "from matplotlib.ticker import FuncFormatter\n"
   ]
  },
  {
   "cell_type": "code",
   "execution_count": null,
   "metadata": {},
   "outputs": [],
   "source": []
  },
  {
   "cell_type": "code",
   "execution_count": 2,
   "metadata": {},
   "outputs": [],
   "source": [
    "def plot_gaph(model, ax, title, set_vertical=None):\n",
    "    formatter = FuncFormatter(lambda x, pos: int(x/24))\n",
    "    df = model.datacollector.get_model_vars_dataframe()\n",
    "    df['Not Infected'] = 0\n",
    "    ax.stackplot(range(len(df)),\n",
    "                        df.loc[:, ['Infected', 'Not Infected', 'Dead', 'Healed']].to_numpy().T,\n",
    "                        labels=['Infected', 'Not Infected', 'Dead', 'Healed' ],\n",
    "                        alpha=1,\n",
    "                        colors=['red', 'whitesmoke', 'gray', 'limegreen'])\n",
    "    ax.set_title(title)\n",
    "    ax.set_ylim([0, 8000])\n",
    "    if set_vertical:\n",
    "        ax.axvline(x=set_vertical, linestyle='--')\n",
    "\n",
    "    ax.xaxis.set_major_formatter(formatter)\n",
    "    "
   ]
  },
  {
   "cell_type": "code",
   "execution_count": 3,
   "metadata": {},
   "outputs": [],
   "source": [
    "def load_model(path):\n",
    "    with open(path, 'rb') as f:\n",
    "        model = pickle.load(f)\n",
    "    return model"
   ]
  },
  {
   "cell_type": "code",
   "execution_count": 4,
   "metadata": {},
   "outputs": [
    {
     "name": "stdout",
     "output_type": "stream",
     "text": [
      " Volume in drive C has no label.\n",
      " Volume Serial Number is AAA8-516C\n",
      "\n",
      " Directory of C:\\Users\\Suro\\Desktop\\Capstone\\evid\n",
      "\n",
      "22.05.2021  14:04    <DIR>          .\n",
      "22.05.2021  14:04    <DIR>          ..\n",
      "22.05.2021  14:00    <DIR>          .idea\n",
      "22.05.2021  19:42    <DIR>          .ipynb_checkpoints\n",
      "22.05.2021  04:36    <DIR>          configs\n",
      "22.05.2021  14:06    <DIR>          experiments\n",
      "28.04.2021  23:37         1,747,581 final_filtered_yerevan_plan.csv\n",
      "15.05.2021  16:46            35,823 LICENSE\n",
      "15.05.2021  16:46         1,515,996 ModelAnalysis.ipynb\n",
      "22.05.2021  16:26           224,747 ModelDash.ipynb\n",
      "22.05.2021  16:49            71,563 Plot Graphs.ipynb\n",
      "22.05.2021  14:04            34,846 plot_graphs.ipynb\n",
      "15.05.2021  16:46             2,129 run.py\n",
      "19.05.2021  22:54    <DIR>          src\n",
      "15.05.2021  00:01             3,816 test.py\n",
      "               8 File(s)      3,636,501 bytes\n",
      "               7 Dir(s)  189,506,473,984 bytes free\n"
     ]
    }
   ],
   "source": [
    "ls "
   ]
  },
  {
   "cell_type": "code",
   "execution_count": 4,
   "metadata": {},
   "outputs": [],
   "source": [
    "mod1 = load_model('experiments/1/checkpoint_2021-05-21 01_00_00.pickle')\n",
    "mod2 = load_model('experiments/all_maks/checkpoint_2021-05-21 01_00_00.pickle')\n",
    "mod3 = load_model('experiments/3/checkpoint_2021-05-21 00_00_00.pickle')\n",
    "mod4 = load_model('experiments/4/checkpoint_2021-05-21 00_00_00.pickle')\n",
    "mod7 = load_model('experiments/7/checkpoint_2021-05-21 00_00_00.pickle')"
   ]
  },
  {
   "cell_type": "code",
   "execution_count": null,
   "metadata": {},
   "outputs": [],
   "source": [
    "mod6 = load_model('experiments/6/checkpoint_2021-05-21 01_00_00.pickle')"
   ]
  },
  {
   "cell_type": "code",
   "execution_count": null,
   "metadata": {},
   "outputs": [],
   "source": [
    "mod5 = load_model('experiments/5/checkpoint_2021-05-21 00_00_00.pickle')"
   ]
  },
  {
   "cell_type": "code",
   "execution_count": 95,
   "metadata": {},
   "outputs": [],
   "source": [
    "mod8 = load_model('experiments/8/checkpoint_2021-05-21 00_00_00.pickle')"
   ]
  },
  {
   "cell_type": "code",
   "execution_count": 5,
   "metadata": {
    "scrolled": false
   },
   "outputs": [
    {
     "ename": "NameError",
     "evalue": "name 'mod1' is not defined",
     "output_type": "error",
     "traceback": [
      "\u001b[1;31m---------------------------------------------------------------------------\u001b[0m",
      "\u001b[1;31mNameError\u001b[0m                                 Traceback (most recent call last)",
      "\u001b[1;32m<ipython-input-5-ccc63ebaa302>\u001b[0m in \u001b[0;36m<module>\u001b[1;34m\u001b[0m\n\u001b[0;32m      1\u001b[0m \u001b[0mfig\u001b[0m\u001b[1;33m,\u001b[0m \u001b[0maxes\u001b[0m \u001b[1;33m=\u001b[0m \u001b[0mplt\u001b[0m\u001b[1;33m.\u001b[0m\u001b[0msubplots\u001b[0m\u001b[1;33m(\u001b[0m\u001b[1;36m4\u001b[0m\u001b[1;33m,\u001b[0m \u001b[1;36m2\u001b[0m\u001b[1;33m,\u001b[0m \u001b[0mfigsize\u001b[0m\u001b[1;33m=\u001b[0m\u001b[1;33m(\u001b[0m\u001b[1;36m15\u001b[0m\u001b[1;33m,\u001b[0m \u001b[1;36m16\u001b[0m\u001b[1;33m)\u001b[0m\u001b[1;33m,\u001b[0m \u001b[0msharex\u001b[0m\u001b[1;33m=\u001b[0m\u001b[1;32mTrue\u001b[0m\u001b[1;33m,\u001b[0m \u001b[0msharey\u001b[0m\u001b[1;33m=\u001b[0m\u001b[1;32mTrue\u001b[0m\u001b[1;33m)\u001b[0m\u001b[1;33m\u001b[0m\u001b[1;33m\u001b[0m\u001b[0m\n\u001b[1;32m----> 2\u001b[1;33m \u001b[0mplot_gaph\u001b[0m\u001b[1;33m(\u001b[0m\u001b[0mmod1\u001b[0m\u001b[1;33m,\u001b[0m \u001b[0maxes\u001b[0m\u001b[1;33m[\u001b[0m\u001b[1;36m0\u001b[0m\u001b[1;33m,\u001b[0m \u001b[1;36m0\u001b[0m\u001b[1;33m]\u001b[0m\u001b[1;33m,\u001b[0m \u001b[1;34m'No masks, gulyat'\u001b[0m\u001b[1;33m,\u001b[0m \u001b[1;36m15\u001b[0m\u001b[1;33m*\u001b[0m\u001b[1;36m24\u001b[0m\u001b[1;33m)\u001b[0m\u001b[1;33m\u001b[0m\u001b[1;33m\u001b[0m\u001b[0m\n\u001b[0m\u001b[0;32m      3\u001b[0m \u001b[0mplot_gaph\u001b[0m\u001b[1;33m(\u001b[0m\u001b[0mmod2\u001b[0m\u001b[1;33m,\u001b[0m \u001b[0maxes\u001b[0m\u001b[1;33m[\u001b[0m\u001b[1;36m0\u001b[0m\u001b[1;33m,\u001b[0m \u001b[1;36m1\u001b[0m\u001b[1;33m]\u001b[0m\u001b[1;33m,\u001b[0m \u001b[1;34m'all masks, everything open'\u001b[0m\u001b[1;33m,\u001b[0m \u001b[1;36m15\u001b[0m\u001b[1;33m*\u001b[0m\u001b[1;36m24\u001b[0m\u001b[1;33m)\u001b[0m\u001b[1;33m\u001b[0m\u001b[1;33m\u001b[0m\u001b[0m\n\u001b[0;32m      4\u001b[0m \u001b[0mplot_gaph\u001b[0m\u001b[1;33m(\u001b[0m\u001b[0mmod3\u001b[0m\u001b[1;33m,\u001b[0m \u001b[0maxes\u001b[0m\u001b[1;33m[\u001b[0m\u001b[1;36m1\u001b[0m\u001b[1;33m,\u001b[0m \u001b[1;36m0\u001b[0m\u001b[1;33m]\u001b[0m\u001b[1;33m,\u001b[0m \u001b[1;34m'mask from 15 day'\u001b[0m\u001b[1;33m,\u001b[0m \u001b[1;36m15\u001b[0m\u001b[1;33m*\u001b[0m\u001b[1;36m24\u001b[0m\u001b[1;33m)\u001b[0m\u001b[1;33m\u001b[0m\u001b[1;33m\u001b[0m\u001b[0m\n\u001b[0;32m      5\u001b[0m \u001b[0mplot_gaph\u001b[0m\u001b[1;33m(\u001b[0m\u001b[0mmod4\u001b[0m\u001b[1;33m,\u001b[0m \u001b[0maxes\u001b[0m\u001b[1;33m[\u001b[0m\u001b[1;36m1\u001b[0m\u001b[1;33m,\u001b[0m \u001b[1;36m1\u001b[0m\u001b[1;33m]\u001b[0m\u001b[1;33m,\u001b[0m \u001b[1;34m'no mask, from 15 cafe gym closed'\u001b[0m\u001b[1;33m,\u001b[0m \u001b[1;36m15\u001b[0m\u001b[1;33m*\u001b[0m\u001b[1;36m24\u001b[0m\u001b[1;33m)\u001b[0m\u001b[1;33m\u001b[0m\u001b[1;33m\u001b[0m\u001b[0m\n",
      "\u001b[1;31mNameError\u001b[0m: name 'mod1' is not defined"
     ]
    },
    {
     "data": {
      "image/png": "[encoded data removed]",
      "text/plain": [
       "<Figure size 1080x1152 with 8 Axes>"
      ]
     },
     "metadata": {
      "needs_background": "light"
     },
     "output_type": "display_data"
    }
   ],
   "source": [
    "fig, axes = plt.subplots(4, 2, figsize=(15, 16), sharex=True, sharey=True)\n",
    "plot_gaph(mod1, axes[0, 0], 'No masks, gulyat', 15*24)\n",
    "plot_gaph(mod2, axes[0, 1], 'all masks, everything open', 15*24)\n",
    "plot_gaph(mod3, axes[1, 0], 'mask from 15 day', 15*24)\n",
    "plot_gaph(mod4, axes[1, 1], 'no mask, from 15 cafe gym closed', 15*24)\n",
    "plot_gaph(mod5, axes[2, 0], 'all people mask, from 15 cafe gym', 15*24)\n",
    "plot_gaph(mod6, axes[2, 1], 'no mask, from full lockdown', 15*24)\n",
    "plot_gaph(mod7, axes[3, 0], 'mask, from 15 lockdown', 15*24)\n",
    "plot_gaph(mod8, axes[3, 1], 'no mask, from 15 all mask and lock', 15*24)\n",
    "\n",
    "\n",
    "# plot_gaph(mod2, axes[2, 0])\n"
   ]
  },
  {
   "cell_type": "code",
   "execution_count": 70,
   "metadata": {},
   "outputs": [],
   "source": [
    "df2 = mod2.datacollector.get_model_vars_dataframe()\n",
    "df7 = mod7.datacollector.get_model_vars_dataframe()\n",
    "df5 = mod5.datacollector.get_model_vars_dataframe()"
   ]
  },
  {
   "cell_type": "code",
   "execution_count": 71,
   "metadata": {},
   "outputs": [
    {
     "data": {
      "text/html": [
       "<div>\n",
       "<style scoped>\n",
       "    .dataframe tbody tr th:only-of-type {\n",
       "        vertical-align: middle;\n",
       "    }\n",
       "\n",
       "    .dataframe tbody tr th {\n",
       "        vertical-align: top;\n",
       "    }\n",
       "\n",
       "    .dataframe thead th {\n",
       "        text-align: right;\n",
       "    }\n",
       "</style>\n",
       "<table border=\"1\" class=\"dataframe\">\n",
       "  <thead>\n",
       "    <tr style=\"text-align: right;\">\n",
       "      <th></th>\n",
       "      <th>Infected</th>\n",
       "      <th>Not_infected</th>\n",
       "      <th>Dead</th>\n",
       "      <th>Healed</th>\n",
       "      <th>Healthcare_potential</th>\n",
       "    </tr>\n",
       "  </thead>\n",
       "  <tbody>\n",
       "    <tr>\n",
       "      <th>739</th>\n",
       "      <td>45</td>\n",
       "      <td>1079180</td>\n",
       "      <td>185</td>\n",
       "      <td>901</td>\n",
       "      <td>4994</td>\n",
       "    </tr>\n",
       "    <tr>\n",
       "      <th>740</th>\n",
       "      <td>45</td>\n",
       "      <td>1079180</td>\n",
       "      <td>185</td>\n",
       "      <td>901</td>\n",
       "      <td>4994</td>\n",
       "    </tr>\n",
       "    <tr>\n",
       "      <th>741</th>\n",
       "      <td>44</td>\n",
       "      <td>1079180</td>\n",
       "      <td>185</td>\n",
       "      <td>902</td>\n",
       "      <td>4994</td>\n",
       "    </tr>\n",
       "    <tr>\n",
       "      <th>742</th>\n",
       "      <td>43</td>\n",
       "      <td>1079180</td>\n",
       "      <td>185</td>\n",
       "      <td>903</td>\n",
       "      <td>4994</td>\n",
       "    </tr>\n",
       "    <tr>\n",
       "      <th>743</th>\n",
       "      <td>43</td>\n",
       "      <td>1079180</td>\n",
       "      <td>185</td>\n",
       "      <td>903</td>\n",
       "      <td>4994</td>\n",
       "    </tr>\n",
       "  </tbody>\n",
       "</table>\n",
       "</div>"
      ],
      "text/plain": [
       "     Infected  Not_infected  Dead  Healed  Healthcare_potential\n",
       "739        45       1079180   185     901                  4994\n",
       "740        45       1079180   185     901                  4994\n",
       "741        44       1079180   185     902                  4994\n",
       "742        43       1079180   185     903                  4994\n",
       "743        43       1079180   185     903                  4994"
      ]
     },
     "execution_count": 71,
     "metadata": {},
     "output_type": "execute_result"
    }
   ],
   "source": [
    "df5.tail()"
   ]
  },
  {
   "cell_type": "code",
   "execution_count": 65,
   "metadata": {},
   "outputs": [
    {
     "data": {
      "text/html": [
       "<div>\n",
       "<style scoped>\n",
       "    .dataframe tbody tr th:only-of-type {\n",
       "        vertical-align: middle;\n",
       "    }\n",
       "\n",
       "    .dataframe tbody tr th {\n",
       "        vertical-align: top;\n",
       "    }\n",
       "\n",
       "    .dataframe thead th {\n",
       "        text-align: right;\n",
       "    }\n",
       "</style>\n",
       "<table border=\"1\" class=\"dataframe\">\n",
       "  <thead>\n",
       "    <tr style=\"text-align: right;\">\n",
       "      <th></th>\n",
       "      <th>Infected</th>\n",
       "      <th>Not_infected</th>\n",
       "      <th>Dead</th>\n",
       "      <th>Healed</th>\n",
       "      <th>Healthcare_potential</th>\n",
       "    </tr>\n",
       "  </thead>\n",
       "  <tbody>\n",
       "    <tr>\n",
       "      <th>740</th>\n",
       "      <td>47</td>\n",
       "      <td>1079174</td>\n",
       "      <td>185</td>\n",
       "      <td>905</td>\n",
       "      <td>4996</td>\n",
       "    </tr>\n",
       "    <tr>\n",
       "      <th>741</th>\n",
       "      <td>47</td>\n",
       "      <td>1079174</td>\n",
       "      <td>185</td>\n",
       "      <td>905</td>\n",
       "      <td>4996</td>\n",
       "    </tr>\n",
       "    <tr>\n",
       "      <th>742</th>\n",
       "      <td>47</td>\n",
       "      <td>1079174</td>\n",
       "      <td>185</td>\n",
       "      <td>905</td>\n",
       "      <td>4996</td>\n",
       "    </tr>\n",
       "    <tr>\n",
       "      <th>743</th>\n",
       "      <td>47</td>\n",
       "      <td>1079174</td>\n",
       "      <td>185</td>\n",
       "      <td>905</td>\n",
       "      <td>4996</td>\n",
       "    </tr>\n",
       "    <tr>\n",
       "      <th>744</th>\n",
       "      <td>47</td>\n",
       "      <td>1079174</td>\n",
       "      <td>185</td>\n",
       "      <td>905</td>\n",
       "      <td>4996</td>\n",
       "    </tr>\n",
       "  </tbody>\n",
       "</table>\n",
       "</div>"
      ],
      "text/plain": [
       "     Infected  Not_infected  Dead  Healed  Healthcare_potential\n",
       "740        47       1079174   185     905                  4996\n",
       "741        47       1079174   185     905                  4996\n",
       "742        47       1079174   185     905                  4996\n",
       "743        47       1079174   185     905                  4996\n",
       "744        47       1079174   185     905                  4996"
      ]
     },
     "execution_count": 65,
     "metadata": {},
     "output_type": "execute_result"
    }
   ],
   "source": [
    "df2.tail()"
   ]
  },
  {
   "cell_type": "code",
   "execution_count": 66,
   "metadata": {},
   "outputs": [
    {
     "data": {
      "text/html": [
       "<div>\n",
       "<style scoped>\n",
       "    .dataframe tbody tr th:only-of-type {\n",
       "        vertical-align: middle;\n",
       "    }\n",
       "\n",
       "    .dataframe tbody tr th {\n",
       "        vertical-align: top;\n",
       "    }\n",
       "\n",
       "    .dataframe thead th {\n",
       "        text-align: right;\n",
       "    }\n",
       "</style>\n",
       "<table border=\"1\" class=\"dataframe\">\n",
       "  <thead>\n",
       "    <tr style=\"text-align: right;\">\n",
       "      <th></th>\n",
       "      <th>Infected</th>\n",
       "      <th>Not_infected</th>\n",
       "      <th>Dead</th>\n",
       "      <th>Healed</th>\n",
       "      <th>Healthcare_potential</th>\n",
       "    </tr>\n",
       "  </thead>\n",
       "  <tbody>\n",
       "    <tr>\n",
       "      <th>739</th>\n",
       "      <td>40</td>\n",
       "      <td>1079176</td>\n",
       "      <td>179</td>\n",
       "      <td>916</td>\n",
       "      <td>4993</td>\n",
       "    </tr>\n",
       "    <tr>\n",
       "      <th>740</th>\n",
       "      <td>40</td>\n",
       "      <td>1079175</td>\n",
       "      <td>179</td>\n",
       "      <td>917</td>\n",
       "      <td>4993</td>\n",
       "    </tr>\n",
       "    <tr>\n",
       "      <th>741</th>\n",
       "      <td>40</td>\n",
       "      <td>1079175</td>\n",
       "      <td>179</td>\n",
       "      <td>917</td>\n",
       "      <td>4993</td>\n",
       "    </tr>\n",
       "    <tr>\n",
       "      <th>742</th>\n",
       "      <td>39</td>\n",
       "      <td>1079175</td>\n",
       "      <td>179</td>\n",
       "      <td>918</td>\n",
       "      <td>4994</td>\n",
       "    </tr>\n",
       "    <tr>\n",
       "      <th>743</th>\n",
       "      <td>39</td>\n",
       "      <td>1079175</td>\n",
       "      <td>179</td>\n",
       "      <td>918</td>\n",
       "      <td>4994</td>\n",
       "    </tr>\n",
       "  </tbody>\n",
       "</table>\n",
       "</div>"
      ],
      "text/plain": [
       "     Infected  Not_infected  Dead  Healed  Healthcare_potential\n",
       "739        40       1079176   179     916                  4993\n",
       "740        40       1079175   179     917                  4993\n",
       "741        40       1079175   179     917                  4993\n",
       "742        39       1079175   179     918                  4994\n",
       "743        39       1079175   179     918                  4994"
      ]
     },
     "execution_count": 66,
     "metadata": {},
     "output_type": "execute_result"
    }
   ],
   "source": [
    "df7.tail()"
   ]
  },
  {
   "cell_type": "code",
   "execution_count": null,
   "metadata": {},
   "outputs": [],
   "source": []
  }
 ],
 "metadata": {
  "kernelspec": {
   "display_name": "Python 3",
   "language": "python",
   "name": "python3"
  },
  "language_info": {
   "codemirror_mode": {
    "name": "ipython",
    "version": 3
   },
   "file_extension": ".py",
   "mimetype": "text/x-python",
   "name": "python",
   "nbconvert_exporter": "python",
   "pygments_lexer": "ipython3",
   "version": "3.9.2"
  }
 },
 "nbformat": 4,
 "nbformat_minor": 4
}
